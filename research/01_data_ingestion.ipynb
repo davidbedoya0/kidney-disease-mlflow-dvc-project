{
 "cells": [
  {
   "cell_type": "code",
   "execution_count": 11,
   "id": "3bc9d765",
   "metadata": {},
   "outputs": [],
   "source": [
    "from cnnClassifier.utils.common import read_yaml, create_directories"
   ]
  },
  {
   "cell_type": "code",
   "execution_count": 1,
   "id": "7b2f8696",
   "metadata": {},
   "outputs": [],
   "source": [
    "import os \n"
   ]
  },
  {
   "cell_type": "code",
   "execution_count": 2,
   "id": "a78f1f15",
   "metadata": {},
   "outputs": [
    {
     "data": {
      "text/plain": [
       "'/Users/davidbedoya0/Documents/Repositorios/Learning/ml-projects/kidney-disease-mlflow-dvc-project/research'"
      ]
     },
     "execution_count": 2,
     "metadata": {},
     "output_type": "execute_result"
    }
   ],
   "source": [
    "%pwd"
   ]
  },
  {
   "cell_type": "code",
   "execution_count": 3,
   "id": "ba90b68d",
   "metadata": {},
   "outputs": [],
   "source": [
    "os.chdir(\"../\")"
   ]
  },
  {
   "cell_type": "code",
   "execution_count": null,
   "id": "805ef0bc",
   "metadata": {},
   "outputs": [],
   "source": [
    "### ENTITY \n",
    "\n",
    "from dataclasses import dataclass\n",
    "from pathlib import Path\n",
    "\n",
    "# dataclass is a class that is used to create a data class\n",
    "# froze = True significa que la clase es inmutable, es decir, no se puede modificar sus atributos\n",
    "# dataclass es util para crear clases que se usan para almacenar datos ya que no se necesita definir el constructor\n",
    "@dataclass(frozen=True)\n",
    "class DataIngestionConfig: \n",
    "    root_dir: Path\n",
    "    source_URL: str\n",
    "    local_data_file: Path\n",
    "    unzip_dir: Path"
   ]
  },
  {
   "cell_type": "code",
   "execution_count": null,
   "id": "ee79be5c",
   "metadata": {},
   "outputs": [],
   "source": [
    "from cnnClassifier.constants import *\n",
    "from cnnClassifier.utils.common import read_yaml, create_directories\n"
   ]
  },
  {
   "cell_type": "code",
   "execution_count": null,
   "id": "f05c0cc7",
   "metadata": {},
   "outputs": [],
   "source": [
    "### CONFIGURATION MANAGER \n",
    "\n",
    "class ConfigurationManager: \n",
    "    def __init__(\n",
    "        self, \n",
    "        config_filepath = CONFIG_FILE_PATH,\n",
    "        params_filepath = PARAMS_FILE_PATH):\n",
    "        \n",
    "        self.config = read_yaml(config_filepath)\n",
    "        self.params = read_yaml(params_filepath)\n",
    "\n",
    "        # se crea el directorio de artefactos si no existe\n",
    "        create_directories([self.config.artifact_root])\n",
    "\n",
    "\n",
    "    def get_data_ingestion_config(self) -> DataIngestionConfig:\n",
    "\n",
    "        # se obtiene la configuracion de la ingestion de datos desde el archivo de configuracion config/config.yaml \n",
    "        config = self.config.data_ingestion\n",
    "\n",
    "        # se crea el directorio de la ingestion de datos si no existe\n",
    "        create_directories([config.root_dir])\n",
    "\n",
    "        data_ingestion_config = DataIngestionConfig(\n",
    "            root_dir=config.root_dir,\n",
    "            source_URL=config.source_URL,\n",
    "            local_data_file=config.local_data_file,\n",
    "            unzip_dir=config.unzip_dir\n",
    "        )\n",
    "\n",
    "        return data_ingestion_config"
   ]
  },
  {
   "cell_type": "code",
   "execution_count": 8,
   "id": "29111227",
   "metadata": {},
   "outputs": [],
   "source": [
    "import os \n",
    "import zipfile\n",
    "import gdown \n",
    "from cnnClassifier import logger \n",
    "from cnnClassifier.utils.common import get_size\n"
   ]
  },
  {
   "cell_type": "code",
   "execution_count": null,
   "id": "52576825",
   "metadata": {},
   "outputs": [],
   "source": [
    "### COMPONENTS \n",
    "\n",
    "class DataIngestion: \n",
    "    def __init__(self, config: DataIngestionConfig):\n",
    "        self.config = config\n",
    "    \n",
    "    def download_file(self)-> str:\n",
    "        '''\n",
    "        Fetch data from the url \n",
    "\n",
    "        '''\n",
    "\n",
    "        try: \n",
    "            dataset_url = self.config.source_URL\n",
    "            zip_download_dir = self.config.local_data_file\n",
    "            os.makedirs(\"artifacts/data_ingestion\" , exist_ok=True)\n",
    "            logger.info(f\"Downloading file from {dataset_url} into file {zip_download_dir}\")\n",
    "            \n",
    "            file_id = dataset_url.split(\"/\")[-2]\n",
    "            prefix = \"https://drive.google.com/uc?/export=download&id=\"\n",
    "            gdown.download(prefix+file_id, zip_download_dir)\n",
    "            \n",
    "            logger.info(f\"Downloaded data from {dataset_url} into {zip_download_dir}\")\n",
    "\n",
    "        except Exception as e:\n",
    "            raise e \n",
    "        \n",
    "    def extract_zip_file(self): \n",
    "        '''\n",
    "        zip_file_path: str \n",
    "        Extracts the zip file into the data directory\n",
    "        Function return None\n",
    "        '''\n",
    "\n",
    "        unzip_path = self.config.unzip_dir\n",
    "        os.makedirs(unzip_path, exist_ok=True)\n",
    "\n",
    "        with zipfile.ZipFile(self.config.local_data_file, 'r') as zip_ref: \n",
    "            zip_ref.extractall(unzip_path)\n",
    "            \n"
   ]
  },
  {
   "cell_type": "code",
   "execution_count": 12,
   "id": "cf4178b8",
   "metadata": {},
   "outputs": [
    {
     "name": "stdout",
     "output_type": "stream",
     "text": [
      "[2025-07-08 20:57:47,222: INFO: common: yaml file: config/config.yaml loaded successfully\n",
      "[2025-07-08 20:57:47,225: INFO: common: yaml file: params.yaml loaded successfully\n",
      "[2025-07-08 20:57:47,227: INFO: common: created directory at: artifacts\n",
      "[2025-07-08 20:57:47,228: INFO: common: created directory at: artifacts/data_ingestion\n",
      "[2025-07-08 20:57:47,230: INFO: 872948733: Downloading file from https://drive.google.com/file/d/1AZEkvbneTQchqyFqGEaeJ7kwWTgbDDf9/view?usp=share_link into file artifacts/data_ingestion/data.zip\n"
     ]
    },
    {
     "name": "stderr",
     "output_type": "stream",
     "text": [
      "Downloading...\n",
      "From (original): https://drive.google.com/uc?/export=download&id=1AZEkvbneTQchqyFqGEaeJ7kwWTgbDDf9\n",
      "From (redirected): https://drive.google.com/uc?%2Fexport=download&id=1AZEkvbneTQchqyFqGEaeJ7kwWTgbDDf9&confirm=t&uuid=46561894-6ed5-4c6a-8117-979428646f26\n",
      "To: /Users/davidbedoya0/Documents/Repositorios/Learning/ml-projects/kidney-disease-mlflow-dvc-project/artifacts/data_ingestion/data.zip\n",
      "100%|██████████| 940M/940M [03:55<00:00, 4.00MB/s] "
     ]
    },
    {
     "name": "stdout",
     "output_type": "stream",
     "text": [
      "[2025-07-08 21:01:44,464: INFO: 872948733: Downloaded data from https://drive.google.com/file/d/1AZEkvbneTQchqyFqGEaeJ7kwWTgbDDf9/view?usp=share_link into artifacts/data_ingestion/data.zip\n"
     ]
    },
    {
     "name": "stderr",
     "output_type": "stream",
     "text": [
      "\n"
     ]
    }
   ],
   "source": [
    "### PIPELINE\n",
    "\n",
    "try : \n",
    "    config = ConfigurationManager()\n",
    "    data_ingestion_config = config.get_data_ingestion_config()\n",
    "    data_ingestion = DataIngestion(config=data_ingestion_config)\n",
    "    data_ingestion.download_file()\n",
    "    data_ingestion.extract_zip_file()\n",
    "\n",
    "except Exception as e:\n",
    "    raise e \n"
   ]
  }
 ],
 "metadata": {
  "kernelspec": {
   "display_name": "kidney",
   "language": "python",
   "name": "python3"
  },
  "language_info": {
   "codemirror_mode": {
    "name": "ipython",
    "version": 3
   },
   "file_extension": ".py",
   "mimetype": "text/x-python",
   "name": "python",
   "nbconvert_exporter": "python",
   "pygments_lexer": "ipython3",
   "version": "3.8.20"
  }
 },
 "nbformat": 4,
 "nbformat_minor": 5
}

{
 "cells": [
  {
   "cell_type": "code",
   "execution_count": 1,
   "id": "62e1a853",
   "metadata": {},
   "outputs": [],
   "source": [
    "import pandas as pd "
   ]
  },
  {
   "cell_type": "code",
   "execution_count": null,
   "id": "34d19d97",
   "metadata": {},
   "outputs": [],
   "source": []
  },
  {
   "cell_type": "markdown",
   "id": "6f946c12",
   "metadata": {},
   "source": [
    "## Download data from gdrive "
   ]
  },
  {
   "cell_type": "code",
   "execution_count": 2,
   "id": "d5eb0c10",
   "metadata": {},
   "outputs": [],
   "source": [
    "import gdown"
   ]
  },
  {
   "cell_type": "code",
   "execution_count": 3,
   "id": "33221016",
   "metadata": {},
   "outputs": [],
   "source": [
    "url = 'https://drive.google.com/file/d/1AZEkvbneTQchqyFqGEaeJ7kwWTgbDDf9/view?usp=share_link'\n"
   ]
  },
  {
   "cell_type": "code",
   "execution_count": 6,
   "id": "14c36acc",
   "metadata": {},
   "outputs": [
    {
     "data": {
      "text/plain": [
       "'1AZEkvbneTQchqyFqGEaeJ7kwWTgbDDf9'"
      ]
     },
     "execution_count": 6,
     "metadata": {},
     "output_type": "execute_result"
    }
   ],
   "source": [
    "file_id = url.split('/')[5]\n",
    "file_id"
   ]
  },
  {
   "cell_type": "code",
   "execution_count": 7,
   "id": "bf981e2d",
   "metadata": {},
   "outputs": [
    {
     "name": "stderr",
     "output_type": "stream",
     "text": [
      "Downloading...\n",
      "From (original): https://drive.google.com/uc?/export=download&id=1AZEkvbneTQchqyFqGEaeJ7kwWTgbDDf9\n",
      "From (redirected): https://drive.google.com/uc?%2Fexport=download&id=1AZEkvbneTQchqyFqGEaeJ7kwWTgbDDf9&confirm=t&uuid=1d77ee5e-ab62-46c6-9d4b-23d63d9605a5\n",
      "To: /Users/davidbedoya0/Documents/Repositorios/Learning/ml-projects/kidney-disease-mlflow-dvc-project/research/kidney-CT-Scan-data.zip\n",
      "100%|██████████| 940M/940M [07:58<00:00, 1.96MB/s] \n"
     ]
    },
    {
     "data": {
      "text/plain": [
       "'kidney-CT-Scan-data.zip'"
      ]
     },
     "execution_count": 7,
     "metadata": {},
     "output_type": "execute_result"
    }
   ],
   "source": [
    "prefix = 'https://drive.google.com/uc?/export=download&id='\n",
    "gdown.download(prefix+file_id, 'kidney-CT-Scan-data.zip' )"
   ]
  },
  {
   "cell_type": "code",
   "execution_count": null,
   "id": "4f8f33d0",
   "metadata": {},
   "outputs": [],
   "source": []
  }
 ],
 "metadata": {
  "kernelspec": {
   "display_name": "kidney",
   "language": "python",
   "name": "python3"
  },
  "language_info": {
   "codemirror_mode": {
    "name": "ipython",
    "version": 3
   },
   "file_extension": ".py",
   "mimetype": "text/x-python",
   "name": "python",
   "nbconvert_exporter": "python",
   "pygments_lexer": "ipython3",
   "version": "3.8.20"
  }
 },
 "nbformat": 4,
 "nbformat_minor": 5
}
